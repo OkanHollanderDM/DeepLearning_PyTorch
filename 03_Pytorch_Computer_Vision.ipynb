{
 "cells": [
  {
   "cell_type": "markdown",
   "metadata": {},
   "source": [
    "# PyTorch Computer Vision"
   ]
  },
  {
   "cell_type": "markdown",
   "metadata": {},
   "source": [
    "## 0. Computer Vision libraries in PyTorch\n",
    "\n",
    "* `torchvision` - a library that provides a collection of models and datasets for computer vision.\n",
    "* `torchvision.datasets` - get datasets and data loading functions for computer vision.\n",
    "* `torchvision.models` - get models for image classification, segmentation, object detection, etc.\n",
    "* `torchvision.transforms` - functions for manipulating your vision data (images) to be suitable for use with an ML model.\n",
    "* `torchvision.utils.data.Dataset` - Base dataset class for PyTorch.\n",
    "* `torchvision.utils.data.DataLoader` - Combines a dataset and a sampler, and provides an iterable over the given dataset."
   ]
  },
  {
   "cell_type": "code",
   "execution_count": 1,
   "metadata": {},
   "outputs": [
    {
     "name": "stdout",
     "output_type": "stream",
     "text": [
      "PyTorch Version: 2.3.1\n",
      "Torchvision Version: 0.18.1\n"
     ]
    }
   ],
   "source": [
    "# import PyTorch\n",
    "import torch\n",
    "from torch import nn\n",
    "\n",
    "# import torchvision\n",
    "import torchvision\n",
    "from torchvision import datasets, transforms\n",
    "from torchvision.transforms import ToTensor\n",
    "\n",
    "# Import matplotlib for visualization\n",
    "import matplotlib.pyplot as plt\n",
    "\n",
    "# Check versions\n",
    "print(f\"PyTorch Version: {torch.__version__}\")\n",
    "print(f\"Torchvision Version: {torchvision.__version__}\")"
   ]
  }
 ],
 "metadata": {
  "kernelspec": {
   "display_name": ".venv",
   "language": "python",
   "name": "python3"
  },
  "language_info": {
   "codemirror_mode": {
    "name": "ipython",
    "version": 3
   },
   "file_extension": ".py",
   "mimetype": "text/x-python",
   "name": "python",
   "nbconvert_exporter": "python",
   "pygments_lexer": "ipython3",
   "version": "3.12.4"
  }
 },
 "nbformat": 4,
 "nbformat_minor": 2
}
